{
  "nbformat": 4,
  "nbformat_minor": 0,
  "metadata": {
    "colab": {
      "provenance": [],
      "machine_shape": "hm",
      "gpuType": "T4"
    },
    "kernelspec": {
      "name": "python3",
      "display_name": "Python 3"
    },
    "language_info": {
      "name": "python"
    },
    "accelerator": "GPU"
  },
  "cells": [
    {
      "cell_type": "code",
      "execution_count": null,
      "metadata": {
        "colab": {
          "base_uri": "https://localhost:8080/"
        },
        "id": "0vxWO6y5NtwU",
        "outputId": "b9be6c50-29a7-4d6e-8490-7c46c76c525c"
      },
      "outputs": [
        {
          "output_type": "stream",
          "name": "stdout",
          "text": [
            "Fetched 9,309 kB in 1s (7,189 kB/s)\n",
            "Reading package lists... Done\n",
            "Building dependency tree... Done\n",
            "Reading state information... Done\n",
            "23 packages can be upgraded. Run 'apt list --upgradable' to see them.\n",
            "Reading package lists... Done\n",
            "Building dependency tree... Done\n",
            "Reading state information... Done\n",
            "ffmpeg is already the newest version (7:4.4.2-0ubuntu0.22.04.1).\n",
            "0 upgraded, 0 newly installed, 0 to remove and 23 not upgraded.\n"
          ]
        }
      ],
      "source": [
        "!pip install git+https://github.com/openai/whisper.git\n",
        "!sudo apt update && sudo apt install ffmpeg\n"
      ]
    },
    {
      "cell_type": "code",
      "source": [
        "from google.colab import drive\n",
        "drive.mount('/content/drive')"
      ],
      "metadata": {
        "id": "0N6tOfwLvElz",
        "colab": {
          "base_uri": "https://localhost:8080/"
        },
        "outputId": "41c1a4c0-e5c7-40d9-a146-70a8e64ee795"
      },
      "execution_count": null,
      "outputs": [
        {
          "output_type": "stream",
          "name": "stdout",
          "text": [
            "Mounted at /content/drive\n"
          ]
        }
      ]
    },
    {
      "cell_type": "code",
      "source": [
        "import os\n",
        "\n",
        "# Define the directory that contains the audio files.\n",
        "directory = '/content/drive/MyDrive/interviews'\n",
        "\n",
        "# Iterate over each file in the directory.\n",
        "for filename in os.listdir(directory):\n",
        "    # Check if the file is an audio file.\n",
        "    if filename.endswith('.m4a'):\n",
        "        # Get the full path of the audio file.\n",
        "        audio_file_path = os.path.join(directory, filename)\n",
        "\n",
        "        # Transcribe the audio file.\n",
        "        output_file_path = os.path.splitext(audio_file_path)[0] + '.txt'\n",
        "\n",
        "        !whisper $audio_file_path > $output_file_path\n"
      ],
      "metadata": {
        "id": "Mgd8T_Gq_D6u",
        "colab": {
          "base_uri": "https://localhost:8080/"
        },
        "outputId": "6f22bfba-3ef0-4c60-cda3-63bc1ec70736"
      },
      "execution_count": null,
      "outputs": [
        {
          "output_type": "stream",
          "name": "stdout",
          "text": [
            "100%|███████████████████████████████████████| 461M/461M [00:07<00:00, 65.5MiB/s]\n"
          ]
        }
      ]
    }
  ]
}